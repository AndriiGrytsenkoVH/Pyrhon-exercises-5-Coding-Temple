{
 "cells": [
  {
   "attachments": {},
   "cell_type": "markdown",
   "metadata": {},
   "source": [
    "### Exercise 1 - Turn the shopping cart program into an object-oriented program"
   ]
  },
  {
   "cell_type": "code",
   "execution_count": 21,
   "metadata": {},
   "outputs": [
    {
     "name": "stdout",
     "output_type": "stream",
     "text": [
      "There is now 10 of Apple priced at $3.50\n",
      "There is now 5 of Apple priced at $3.50\n",
      "Now there is no Apple\n",
      "There is now 4.4 of Potato priced at $1.25\n",
      "Shopping list is now empty\n",
      "There is now 7 of Strawberry priced at $4.55\n",
      "There is now 0.03 of Pocket Lint priced at $0.01\n",
      "\n",
      "This is you recept\n",
      "\n",
      "7\tStrawberry for $4.55\t$31.85\n",
      "0.03\tPocket Lint for $0.01\t$0.00\n",
      "----------------------------------------\n",
      "\tTotal:\t\t\t$31.85\n"
     ]
    }
   ],
   "source": [
    "class Cart:\n",
    "    def __init__(self):\n",
    "        self.shopping_list = dict()\n",
    "\n",
    "    def add(self, name, quantity, price):\n",
    "        \"\"\"\n",
    "        Add method adds new entry to shopping_list attribute.\n",
    "        If this entry already exists, updates it.\n",
    "        \"\"\"\n",
    "        # Check for valid input\n",
    "        if not (isinstance(name,str) and isinstance(quantity,(float,int)) and quantity >=0 and isinstance(price,float) and price>=0):\n",
    "            raise Exception(\"Invalid input. Method Cart.add is initiated with values (str, float/int >= 0, float/int >= 0)\")\n",
    "\n",
    "        edited_name = name.strip(\" .,\").title()\n",
    "        self.shopping_list[edited_name] = {\"quantity\": quantity, \"price\": price}\n",
    "\n",
    "        print(f\"There is now {quantity:g} of {edited_name} priced at ${price:.2f}\")\n",
    "\n",
    "    def remove(self, name, remove_quantity):\n",
    "        \"\"\"\n",
    "        Remove method removes specified quantity of the specified item from shopping_list attribute.\n",
    "        If this entry doesn't exist, does nothing.\n",
    "        \"\"\"\n",
    "\n",
    "        # Check for valid input\n",
    "\n",
    "        if not (isinstance(name,str) and isinstance(remove_quantity,(float,int)) and remove_quantity >=0):\n",
    "            raise Exception(\"Invalid input. Method Cart.remove is initiated with values (str, float/int >= 0)\")\n",
    "\n",
    "        edited_name = name.strip(\" .,\").title()\n",
    "        if not self.shopping_list.get(edited_name):\n",
    "            print(\"This item doesn't exist\")\n",
    "        elif remove_quantity >= self.shopping_list[edited_name][\"quantity\"]:\n",
    "            del self.shopping_list[edited_name]\n",
    "            print(f\"Now there is no {edited_name}\")\n",
    "        else:\n",
    "            self.shopping_list[edited_name][\"quantity\"] -= remove_quantity\n",
    "            # OMG look at dat ** !!!\n",
    "            print(\"There is now {quantity:g} of {item_name} priced at ${price:.2f}\".format(item_name = edited_name,**self.shopping_list[edited_name]))\n",
    "\n",
    "    def show(self):\n",
    "        \"\"\"\n",
    "        Prints out current recept\n",
    "        By default, goes back to updater function\n",
    "        But if loop=False, returns None\n",
    "        \"\"\"\n",
    "\n",
    "        print(\"\\nThis is you recept\\n\")\n",
    "        total = 0\n",
    "        for name, item in self.shopping_list.items():\n",
    "            total_item = item[\"quantity\"]*item[\"price\"]\n",
    "            print(f\"{item['quantity']:g}\\t{name} for ${item['price']:.2f}\\t${total_item:.2f}\")\n",
    "            total += total_item\n",
    "        print(\"-\"*40)\n",
    "        print(f\"\\tTotal:\\t\\t\\t${total:.2f}\")\n",
    "\n",
    "    def clear(self):\n",
    "        \"\"\"\n",
    "        Clears entire shopping_list attribute\n",
    "        \"\"\"\n",
    "        print(\"Shopping list is now empty\")\n",
    "        self.shopping_list.clear()\n",
    "\n",
    "\n",
    "\n",
    "# Test\n",
    "my_cart = Cart()\n",
    "my_cart.add(\"apple\", 10, 3.5)\n",
    "my_cart.remove(\"apple\",5)\n",
    "my_cart.remove(\"apple\",7)\n",
    "my_cart.add(\"potato\",4.4,1.25)\n",
    "my_cart.clear()\n",
    "my_cart.add(\"strawberry\",7,4.55)\n",
    "my_cart.add(\"pocket lint\", 0.03, 0.01)\n",
    "my_cart.show()\n"
   ]
  },
  {
   "attachments": {},
   "cell_type": "markdown",
   "metadata": {},
   "source": [
    "### Exercise 2 - Write a Python class for an Animal that has a name and energy attributes. The animal class should also have methods for eat, sleep, and play that will take in an integer and increase/decrease the energy of the animal with a formatted print statement"
   ]
  },
  {
   "cell_type": "code",
   "execution_count": 22,
   "metadata": {},
   "outputs": [
    {
     "name": "stdout",
     "output_type": "stream",
     "text": [
      "{'name': 'Burumdjulka', 'energy': 9001}\n",
      "Burumdjulka is playing for 1000 hours. Their energy is now 8001\n",
      "Burumdjulka is eating 777 treats. Their energy is now 8778\n",
      "Burumdjulka is sleeping for 1000 hours. Their energy is now 9778\n"
     ]
    }
   ],
   "source": [
    "# Example 1\n",
    "# buddy = Animal('Buddy', 10)\n",
    "# buddy.play(5) -> \"Buddy is playing for 5 minutes. His energy is now 5\"\n",
    "# buddy.sleep(10) -> \"Buddy is sleeping for 5 minutes. His energy is now 15\"\n",
    "\n",
    "class Animal:\n",
    "    def __init__(self, name, energy):\n",
    "        if not (isinstance(name, str) and isinstance(energy, int) and energy >= 0):\n",
    "            raise Exception(\"Invalid input. Class Animal is initiated with values (str, int >= 0)\")\n",
    "        self.name = name.strip(\" .,\").title()\n",
    "        self.energy = energy\n",
    "    \n",
    "    def eat(self, amount_of_treats):\n",
    "        if not (isinstance(amount_of_treats, int) and amount_of_treats >= 0):\n",
    "            raise Exception(\"Invalid input. Method Animal.eat takes in values (int >= 0)\")\n",
    "        self.energy += amount_of_treats\n",
    "        print(f\"{self.name} is eating {amount_of_treats} treats. Their energy is now {self.energy}\")\n",
    "        \n",
    "    def sleep(self, duration_of_sleep):\n",
    "        if not (isinstance(duration_of_sleep, int) and duration_of_sleep >= 0):\n",
    "            raise Exception(\"Invalid input. Method Animal.sleep takes in values (int >= 0)\")\n",
    "        self.energy += duration_of_sleep\n",
    "        print(f\"{self.name} is sleeping for {duration_of_sleep} hours. Their energy is now {self.energy}\")\n",
    "        \n",
    "    def play(self, duration_of_play):\n",
    "        if not (isinstance(duration_of_play, int) and duration_of_play >= 0):\n",
    "            raise Exception(\"Invalid input. Method Animal.play takes in values (int >= 0)\")\n",
    "        self.energy -= duration_of_play\n",
    "        print(f\"{self.name} is playing for {duration_of_play} hours. Their energy is now {self.energy}\")\n",
    "        \n",
    "\n",
    "# Test\n",
    "my_cat = Animal(\"Burumdjulka\",9001)\n",
    "print(my_cat.__dict__)\n",
    "my_cat.play(1000)\n",
    "my_cat.eat(777)\n",
    "my_cat.sleep(1000)"
   ]
  }
 ],
 "metadata": {
  "kernelspec": {
   "display_name": "Python 3",
   "language": "python",
   "name": "python3"
  },
  "language_info": {
   "codemirror_mode": {
    "name": "ipython",
    "version": 3
   },
   "file_extension": ".py",
   "mimetype": "text/x-python",
   "name": "python",
   "nbconvert_exporter": "python",
   "pygments_lexer": "ipython3",
   "version": "3.10.8 (tags/v3.10.8:aaaf517, Oct 11 2022, 16:50:30) [MSC v.1933 64 bit (AMD64)]"
  },
  "orig_nbformat": 4,
  "vscode": {
   "interpreter": {
    "hash": "26de051ba29f2982a8de78e945f0abaf191376122a1563185a90213a26c5da77"
   }
  }
 },
 "nbformat": 4,
 "nbformat_minor": 2
}
